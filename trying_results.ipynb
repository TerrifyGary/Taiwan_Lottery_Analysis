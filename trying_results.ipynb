{
 "cells": [
  {
   "cell_type": "code",
   "execution_count": null,
   "id": "7f653f05",
   "metadata": {},
   "outputs": [],
   "source": [
    "from bs4 import BeautifulSoup\n",
    "import requests"
   ]
  },
  {
   "cell_type": "code",
   "execution_count": null,
   "id": "d27ac1ba",
   "metadata": {},
   "outputs": [],
   "source": [
    "url = \"https://www.pilio.idv.tw/lto539/list.asp?indexpage=190&orderby=new\"\n",
    "r = requests.get(url)\n",
    "print(r.status_code)"
   ]
  },
  {
   "cell_type": "code",
   "execution_count": null,
   "id": "a4bff66d",
   "metadata": {},
   "outputs": [],
   "source": [
    "soup = BeautifulSoup(r.text, 'html.parser')\n",
    "filterRound = soup.find_all('td',attrs={'style':'font-size: 6vmin; font-weight: bold; color: #000000;border-bottom-style: dotted; border-bottom-color: #CCCCCC;text-align:center;padding:0px;vertical-align:middle'})\n",
    "# print(filterRound)"
   ]
  },
  {
   "cell_type": "code",
   "execution_count": null,
   "id": "1c04f238",
   "metadata": {},
   "outputs": [],
   "source": [
    "temp = []\n",
    "for i in filterRound:\n",
    "    x = i.text.strip()\n",
    "    temp.append(x)"
   ]
  },
  {
   "cell_type": "code",
   "execution_count": null,
   "id": "e4ec1469",
   "metadata": {},
   "outputs": [],
   "source": [
    "historyLoteryComb = []\n",
    "for i in temp:\n",
    "    x = \"\".join(i.split())\n",
    "    print(x)\n",
    "    historyLoteryComb.append(x)"
   ]
  },
  {
   "cell_type": "code",
   "execution_count": null,
   "id": "e2cd8e6a",
   "metadata": {},
   "outputs": [],
   "source": [
    "print(historyLoteryComb)"
   ]
  },
  {
   "cell_type": "code",
   "execution_count": null,
   "id": "4aded599",
   "metadata": {},
   "outputs": [],
   "source": [
    "def getLottery(date,result,url):\n",
    "    r = requests.get(url)\n",
    "    temp = []\n",
    "    if (r.status_code):\n",
    "        soup = BeautifulSoup(r.text, 'html.parser')\n",
    "        filterDate = soup.find_all('td', attrs={'style':'font-size: 4vmin; font-weight: bold; color: #000000;border-bottom-style: dotted; border-bottom-color: #CCCCCC;text-align:center;padding:0px;vertical-align:middle'})\n",
    "        filterNumb = soup.find_all('td', attrs={'style':'font-size: 6vmin; font-weight: bold; color: #000000;border-bottom-style: dotted; border-bottom-color: #CCCCCC;text-align:center;padding:0px;vertical-align:middle'})\n",
    "        for i,j in zip(filterDate,filterNumb):\n",
    "            x = i.text.strip()\n",
    "            y = j.text.strip()\n",
    "            date.append(x)\n",
    "            temp.append(y)\n",
    "        for i in temp:\n",
    "            x = \"\".join(i.split())\n",
    "#             print(x)\n",
    "            result.append(x)"
   ]
  },
  {
   "cell_type": "code",
   "execution_count": null,
   "id": "f6ea4d53",
   "metadata": {},
   "outputs": [],
   "source": [
    "allDateInfo = []\n",
    "allResultInfo = []\n",
    "url = f'https://www.pilio.idv.tw/lto539/list.asp?indexpage=190&orderby=new'\n",
    "getLottery(allDateInfo, allResultInfo, url)"
   ]
  },
  {
   "cell_type": "code",
   "execution_count": null,
   "id": "10cf51c4",
   "metadata": {},
   "outputs": [],
   "source": [
    "allDateInfo,allResultInfo"
   ]
  },
  {
   "cell_type": "code",
   "execution_count": null,
   "id": "c113311d",
   "metadata": {},
   "outputs": [],
   "source": [
    "from bs4 import BeautifulSoup\n",
    "import requests\n",
    "\n",
    "allDateInfo = []\n",
    "allResultInfo = []\n",
    "\n",
    "def getLottery(date,result,url):\n",
    "    r = requests.get(url) \n",
    "    isConnected = int(r.status_code) # 檢查status code是否為200\n",
    "    temp = []\n",
    "    if (isConnected==200):\n",
    "        soup = BeautifulSoup(r.text, 'html.parser') # 抓取html\n",
    "        filterDate = soup.find_all('td', attrs={'style':'font-size: 4vmin; font-weight: bold; color: #000000;border-bottom-style: dotted; border-bottom-color: #CCCCCC;text-align:center;padding:0px;vertical-align:middle'})\n",
    "        filterNumb = soup.find_all('td', attrs={'style':'font-size: 6vmin; font-weight: bold; color: #000000;border-bottom-style: dotted; border-bottom-color: #CCCCCC;text-align:center;padding:0px;vertical-align:middle'})\n",
    "        for i,j in zip(filterDate,filterNumb):\n",
    "            x = i.text.strip()\n",
    "            y = j.text.strip() # strip() 可以去除頭尾的空白鍵\n",
    "            date.append(x)\n",
    "            temp.append(y)\n",
    "        for i in temp:\n",
    "            x = \"\".join(i.split())\n",
    "#             print(x)\n",
    "#             print('\\n')\n",
    "            result.append(x)\n",
    "\n",
    "def getPagesInfo(date,result,num):\n",
    "    for i in range (num):\n",
    "        url = f'https://www.pilio.idv.tw/lto539/list.asp?indexpage={191-i}&orderby=new'\n",
    "        print(url)\n",
    "        getLottery(date, result, url)\n",
    "        print(type(date))\n",
    "        print(date[0])\n",
    "    \n",
    "    return date, result\n",
    "allDateInfo,allResultInfo = getPagesInfo(allDateInfo,allResultInfo,3)\n",
    "# print(allDateInfo, allResultInfo)"
   ]
  },
  {
   "cell_type": "code",
   "execution_count": null,
   "id": "b2c5d07d",
   "metadata": {},
   "outputs": [],
   "source": [
    "x = 10\n",
    "print(f'This is 10 {x}')"
   ]
  },
  {
   "cell_type": "code",
   "execution_count": 1,
   "id": "481824eb",
   "metadata": {},
   "outputs": [
    {
     "name": "stdout",
     "output_type": "stream",
     "text": [
      "It is now page Number 1.\n",
      "It is now page Number 2.\n",
      "It is now page Number 3.\n",
      "It is now page Number 4.\n",
      "It is now page Number 5.\n",
      "It is now page Number 6.\n",
      "It is now page Number 7.\n",
      "It is now page Number 8.\n",
      "It is now page Number 9.\n",
      "It is now page Number 10.\n"
     ]
    }
   ],
   "source": [
    "from bs4 import BeautifulSoup\n",
    "import requests\n",
    "import pandas\n",
    "\n",
    "page = 10\n",
    "def hadleDate(soup):\n",
    "    cleanDate = []\n",
    "    filterDate = soup.find_all('td',attrs={'style':'font-size: 4vmin; font-weight: bold; color: #000000;border-bottom-style: dotted; border-bottom-color: #CCCCCC;text-align:center;padding:0px;vertical-align:middle'})\n",
    "    for i in filterDate:\n",
    "        x = i.text\n",
    "        x = x[:10]\n",
    "        cleanDate.append(x)\n",
    "    cleanDate.reverse()\n",
    "    return cleanDate\n",
    "\n",
    "def hadleLottoNumber(soup):\n",
    "    cleanLottoNumber = []\n",
    "    filterNumber = soup.find_all('td',attrs={'style':'font-size: 6vmin; font-weight: bold; color: #000000;border-bottom-style: dotted; border-bottom-color: #CCCCCC;text-align:center;padding:0px;vertical-align:middle'})\n",
    "    for i in filterNumber:\n",
    "        x = \"\".join((i.text.strip()).split()) \n",
    "        cleanLottoNumber.append(x)\n",
    "    cleanLottoNumber.reverse()\n",
    "    return cleanLottoNumber\n",
    "\n",
    "def getPageData(webURL):\n",
    "    date = []\n",
    "    lottoNumber = []\n",
    "    r = requests.get(url=webURL)\n",
    "    checkStatusCode = int(r.status_code)\n",
    "\n",
    "    if checkStatusCode==200:\n",
    "        soup = BeautifulSoup(r.text, 'html.parser')\n",
    "        date += hadleDate(soup)\n",
    "        lottoNumber += hadleLottoNumber(soup)\n",
    "\n",
    "    return date,lottoNumber\n",
    "\n",
    "def getMorePages(num):\n",
    "    tempAllPageDate = []\n",
    "    tempAllPageLottoNumber = []\n",
    "\n",
    "    for i in range (num):\n",
    "        pageURL = f'https://www.pilio.idv.tw/lto539/list.asp?indexpage={191-i}&orderby=new'\n",
    "        tempAllPageDate += getPageData(webURL=pageURL)[0]\n",
    "        tempAllPageLottoNumber += getPageData(webURL=pageURL)[1]\n",
    "        print(f'It is now page Number {i+1}.')\n",
    "\n",
    "    return tempAllPageDate, tempAllPageLottoNumber\n",
    "allPageDate, allPageLottoNumber = getMorePages(page)\n",
    "dict = {'date': allPageDate,'lottoNumber':allPageLottoNumber}"
   ]
  },
  {
   "cell_type": "code",
   "execution_count": 2,
   "id": "8bd01c5f",
   "metadata": {},
   "outputs": [
    {
     "name": "stdout",
     "output_type": "stream",
     "text": [
      "230 230\n",
      "['2007/01/02', '2007/01/03', '2007/01/04', '2007/01/05', '2007/01/08', '2007/01/09', '2007/01/10', '2007/01/11', '2007/01/12', '2007/01/15', '2007/01/16', '2007/01/17', '2007/01/18', '2007/01/19', '2007/01/22', '2007/01/23', '2007/01/24', '2007/01/25', '2007/01/26', '2007/01/29', '2007/01/30', '2007/01/31', '2007/02/01', '2007/02/02', '2007/02/05', '2007/02/06', '2007/02/07', '2007/02/08', '2007/02/09', '2007/02/12', '2007/02/13', '2007/02/14', '2007/02/15', '2007/02/16', '2007/02/19', '2007/02/20', '2007/02/21', '2007/02/22', '2007/02/23', '2007/02/26', '2007/02/27', '2007/02/28', '2007/03/01', '2007/03/02', '2007/03/05', '2007/03/06', '2007/03/07', '2007/03/08', '2007/03/09', '2007/03/12', '2007/03/13', '2007/03/14', '2007/03/15', '2007/03/16', '2007/03/19', '2007/03/20', '2007/03/21', '2007/03/22', '2007/03/23', '2007/03/26', '2007/03/27', '2007/03/28', '2007/03/29', '2007/03/30', '2007/04/02', '2007/04/03', '2007/04/04', '2007/04/05', '2007/04/06', '2007/04/09', '2007/04/10', '2007/04/11', '2007/04/12', '2007/04/13', '2007/04/16', '2007/04/17', '2007/04/18', '2007/04/19', '2007/04/20', '2007/04/23', '2007/04/24', '2007/04/25', '2007/04/26', '2007/04/27', '2007/04/30', '2007/05/01', '2007/05/02', '2007/05/03', '2007/05/04', '2007/05/07', '2007/05/08', '2007/05/09', '2007/05/10', '2007/05/11', '2007/05/14', '2007/05/15', '2007/05/16', '2007/05/17', '2007/05/18', '2007/05/21', '2007/05/22', '2007/05/23', '2007/05/24', '2007/05/25', '2007/05/28', '2007/05/29', '2007/05/30', '2007/05/31', '2007/06/01', '2007/06/04', '2007/06/05', '2007/06/06', '2007/06/07', '2007/06/08', '2007/06/11', '2007/06/12', '2007/06/13', '2007/06/14', '2007/06/15', '2007/06/18', '2007/06/19', '2007/06/20', '2007/06/21', '2007/06/22', '2007/06/25', '2007/06/26', '2007/06/27', '2007/06/28', '2007/06/29', '2007/07/02', '2007/07/03', '2007/07/04', '2007/07/05', '2007/07/06', '2007/07/09', '2007/07/10', '2007/07/11', '2007/07/12', '2007/07/13', '2007/07/16', '2007/07/17', '2007/07/18', '2007/07/19', '2007/07/20', '2007/07/23', '2007/07/24', '2007/07/25', '2007/07/26', '2007/07/27', '2007/07/30', '2007/07/31', '2007/08/01', '2007/08/02', '2007/08/03', '2007/08/06', '2007/08/07', '2007/08/08', '2007/08/09', '2007/08/10', '2007/08/13', '2007/08/14', '2007/08/15', '2007/08/16', '2007/08/17', '2007/08/20', '2007/08/21', '2007/08/22', '2007/08/23', '2007/08/24', '2007/08/27', '2007/08/28', '2007/08/29', '2007/08/30', '2007/08/31', '2007/09/03', '2007/09/04', '2007/09/05', '2007/09/06', '2007/09/07', '2007/09/10', '2007/09/11', '2007/09/12', '2007/09/13', '2007/09/14', '2007/09/17', '2007/09/18', '2007/09/19', '2007/09/20', '2007/09/21', '2007/09/24', '2007/09/25', '2007/09/26', '2007/09/27', '2007/09/28', '2007/10/01', '2007/10/02', '2007/10/03', '2007/10/04', '2007/10/05', '2007/10/08', '2007/10/09', '2007/10/10', '2007/10/11', '2007/10/12', '2007/10/15', '2007/10/16', '2007/10/17', '2007/10/18', '2007/10/19', '2007/10/22', '2007/10/23', '2007/10/24', '2007/10/25', '2007/10/26', '2007/10/29', '2007/10/30', '2007/10/31', '2007/11/01', '2007/11/02', '2007/11/05', '2007/11/06', '2007/11/07', '2007/11/08', '2007/11/09', '2007/11/12', '2007/11/13', '2007/11/14', '2007/11/15', '2007/11/16', '2007/11/19'] ['02,12,33,36,37', '22,23,27,29,30', '03,09,23,32,39', '09,12,13,15,26', '08,11,13,24,39', '05,08,14,17,28', '05,30,34,35,38', '07,15,18,20,37', '06,21,23,26,33', '01,13,15,20,25', '06,13,27,31,32', '11,25,26,27,30', '10,15,20,22,28', '10,11,17,21,38', '10,13,15,28,39', '07,17,24,30,39', '03,04,15,23,34', '08,10,14,21,24', '06,08,10,36,37', '03,08,11,17,38', '05,10,12,15,27', '03,04,15,29,34', '13,18,25,26,36', '06,11,12,15,35', '03,16,19,20,31', '02,13,14,29,39', '07,11,23,32,35', '05,10,31,37,39', '07,16,20,25,27', '13,15,16,23,34', '02,22,28,29,34', '01,15,20,23,28', '06,24,27,28,33', '24,28,29,32,37', '09,12,24,34,37', '04,06,17,31,36', '08,18,20,32,34', '09,17,20,21,37', '09,12,16,19,25', '06,20,23,25,28', '09,12,19,23,34', '09,11,21,22,38', '02,03,12,18,31', '07,22,23,33,37', '05,11,19,21,25', '12,16,17,19,34', '02,12,19,30,34', '07,11,20,31,34', '02,17,30,31,38', '08,15,25,27,38', '06,09,16,18,22', '06,09,16,37,39', '01,07,21,27,33', '01,02,18,26,38', '05,20,24,28,39', '02,10,14,18,22', '06,14,34,37,38', '07,25,26,34,36', '12,19,20,29,32', '26,27,32,33,36', '11,20,36,37,38', '09,25,28,34,37', '08,22,23,27,29', '06,19,22,33,37', '01,07,21,33,35', '10,11,13,29,31', '01,19,30,34,35', '07,21,22,23,36', '04,07,12,33,34', '11,30,32,34,39', '06,08,09,30,39', '25,26,31,37,39', '01,09,11,17,25', '22,24,27,32,37', '14,18,26,28,36', '02,11,24,31,32', '03,12,22,38,39', '01,14,20,22,36', '03,06,22,37,39', '02,07,10,13,30', '01,04,06,09,16', '13,15,19,29,37', '05,07,15,32,39', '08,10,21,23,39', '04,07,12,17,29', '01,10,22,34,39', '04,23,34,37,39', '01,05,18,25,37', '07,08,09,12,14', '04,09,18,27,28', '02,10,18,23,33', '03,15,30,35,36', '14,19,22,25,35', '15,18,19,21,24', '02,09,10,14,39', '05,08,11,23,38', '01,11,18,21,24', '04,05,06,13,33', '06,11,15,37,39', '08,15,20,23,25', '01,13,18,31,32', '04,08,21,29,32', '07,08,13,30,35', '04,13,19,23,35', '04,05,10,17,37', '10,14,15,29,35', '05,20,33,38,39', '21,28,33,35,38', '01,03,07,13,28', '04,07,13,32,36', '06,08,18,25,35', '07,20,21,28,33', '01,07,18,19,21', '01,07,10,16,37', '07,14,27,29,30', '05,15,23,27,34', '01,02,03,20,25', '06,10,12,26,39', '02,12,23,25,27', '02,03,05,12,16', '01,06,08,10,28', '07,11,12,23,38', '18,19,28,35,39', '09,11,20,22,25', '20,22,23,24,34', '01,04,15,25,33', '03,06,14,20,21', '01,19,22,35,36', '25,31,33,34,37', '03,13,21,28,32', '15,17,23,25,38', '10,17,18,19,29', '01,02,11,23,37', '06,31,34,35,39', '08,12,24,34,35', '01,08,12,19,29', '05,14,19,20,29', '08,13,21,27,32', '01,03,20,26,31', '15,16,22,35,39', '05,17,23,27,30', '03,21,24,33,34', '01,06,19,24,37', '17,25,34,35,38', '03,11,15,20,36', '05,12,19,28,34', '01,09,10,19,21', '07,20,24,33,34', '08,11,12,18,21', '04,08,12,15,20', '07,14,17,37,39', '04,09,28,32,36', '09,15,21,35,39', '04,08,12,13,32', '02,08,13,33,36', '09,10,23,31,36', '07,11,12,27,29', '02,09,22,24,38', '13,16,17,26,33', '01,15,24,29,31', '04,15,25,26,36', '05,12,28,30,32', '07,14,29,30,35', '05,16,23,30,35', '04,17,23,26,28', '01,07,19,26,29', '03,17,22,31,34', '04,07,16,20,28', '02,07,12,16,39', '10,12,19,23,36', '04,07,14,29,36', '15,18,25,32,34', '07,14,25,28,37', '14,20,22,27,29', '12,18,24,27,33', '05,07,18,24,35', '01,28,31,34,38', '08,19,28,31,33', '02,19,23,30,37', '13,19,28,32,37', '04,21,27,35,38', '07,10,17,23,35', '01,03,10,15,26', '11,23,24,36,39', '16,24,25,26,30', '01,11,13,24,27', '04,06,17,24,37', '07,13,20,25,26', '12,17,24,34,38', '02,03,31,36,37', '01,17,19,27,36', '08,31,32,33,37', '06,11,12,16,33', '04,09,17,26,37', '02,28,31,33,35', '01,08,22,23,26', '01,05,08,12,24', '02,06,24,35,36', '08,11,25,34,39', '14,16,19,21,34', '05,07,12,22,26', '01,08,22,24,27', '04,18,23,26,36', '01,12,13,17,23', '09,10,17,18,31', '11,15,20,22,34', '03,07,18,19,23', '11,13,21,22,31', '07,22,27,29,32', '01,13,18,23,33', '03,04,09,22,39', '01,03,17,29,31', '09,11,16,20,31', '17,19,23,29,37', '03,04,17,32,39', '03,04,06,22,27', '15,23,28,35,36', '09,12,14,22,30', '01,04,05,30,31', '12,26,28,31,38', '09,26,32,33,37', '06,12,20,21,30', '23,24,25,29,36', '02,12,18,28,36', '30,33,34,36,37', '05,06,16,18,29', '02,09,24,31,39', '06,21,29,35,37', '01,05,10,19,32', '10,17,19,20,25']\n"
     ]
    }
   ],
   "source": [
    "print(len(allPageDate),len(allPageLottoNumber))\n",
    "print(allPageDate,allPageLottoNumber)"
   ]
  },
  {
   "cell_type": "code",
   "execution_count": null,
   "id": "b27891db",
   "metadata": {},
   "outputs": [],
   "source": []
  }
 ],
 "metadata": {
  "kernelspec": {
   "display_name": "Python 3 (ipykernel)",
   "language": "python",
   "name": "python3"
  },
  "language_info": {
   "codemirror_mode": {
    "name": "ipython",
    "version": 3
   },
   "file_extension": ".py",
   "mimetype": "text/x-python",
   "name": "python",
   "nbconvert_exporter": "python",
   "pygments_lexer": "ipython3",
   "version": "3.8.11"
  }
 },
 "nbformat": 4,
 "nbformat_minor": 5
}
