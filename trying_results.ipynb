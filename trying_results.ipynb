{
 "cells": [
  {
   "cell_type": "code",
   "execution_count": 11,
   "id": "7f653f05",
   "metadata": {},
   "outputs": [],
   "source": [
    "from bs4 import BeautifulSoup\n",
    "import requests"
   ]
  },
  {
   "cell_type": "code",
   "execution_count": 12,
   "id": "d27ac1ba",
   "metadata": {},
   "outputs": [
    {
     "name": "stdout",
     "output_type": "stream",
     "text": [
      "200\n"
     ]
    }
   ],
   "source": [
    "url = \"https://www.pilio.idv.tw/lto539/list.asp?indexpage=190&orderby=new\"\n",
    "r = requests.get(url)\n",
    "print(r.status_code)"
   ]
  },
  {
   "cell_type": "code",
   "execution_count": 21,
   "id": "a4bff66d",
   "metadata": {},
   "outputs": [],
   "source": [
    "soup = BeautifulSoup(r.text, 'html.parser')\n",
    "filterRound = soup.find_all('td',attrs={'style':'font-size: 6vmin; font-weight: bold; color: #000000;border-bottom-style: dotted; border-bottom-color: #CCCCCC;text-align:center;padding:0px;vertical-align:middle'})\n",
    "# print(filterRound)"
   ]
  },
  {
   "cell_type": "code",
   "execution_count": 22,
   "id": "1c04f238",
   "metadata": {},
   "outputs": [],
   "source": [
    "temp = []\n",
    "for i in filterRound:\n",
    "    x = i.text.strip()\n",
    "    temp.append(x)"
   ]
  },
  {
   "cell_type": "code",
   "execution_count": 23,
   "id": "e4ec1469",
   "metadata": {},
   "outputs": [
    {
     "name": "stdout",
     "output_type": "stream",
     "text": [
      "12,16,17,19,34\n",
      "05,11,19,21,25\n",
      "07,22,23,33,37\n",
      "02,03,12,18,31\n",
      "09,11,21,22,38\n",
      "09,12,19,23,34\n",
      "06,20,23,25,28\n",
      "09,12,16,19,25\n",
      "09,17,20,21,37\n",
      "08,18,20,32,34\n",
      "04,06,17,31,36\n",
      "09,12,24,34,37\n",
      "24,28,29,32,37\n",
      "06,24,27,28,33\n",
      "01,15,20,23,28\n",
      "02,22,28,29,34\n",
      "13,15,16,23,34\n",
      "07,16,20,25,27\n",
      "05,10,31,37,39\n",
      "07,11,23,32,35\n",
      "02,13,14,29,39\n",
      "03,16,19,20,31\n",
      "06,11,12,15,35\n"
     ]
    }
   ],
   "source": [
    "historyLoteryComb = []\n",
    "for i in temp:\n",
    "    x = \"\".join(i.split())\n",
    "    print(x)\n",
    "    historyLoteryComb.append(x)"
   ]
  },
  {
   "cell_type": "code",
   "execution_count": 16,
   "id": "e2cd8e6a",
   "metadata": {},
   "outputs": [
    {
     "name": "stdout",
     "output_type": "stream",
     "text": [
      "['12,16,17,19,34', '05,11,19,21,25', '07,22,23,33,37', '02,03,12,18,31', '09,11,21,22,38', '09,12,19,23,34', '06,20,23,25,28', '09,12,16,19,25', '09,17,20,21,37', '08,18,20,32,34', '04,06,17,31,36', '09,12,24,34,37', '24,28,29,32,37', '06,24,27,28,33', '01,15,20,23,28', '02,22,28,29,34', '13,15,16,23,34', '07,16,20,25,27', '05,10,31,37,39', '07,11,23,32,35', '02,13,14,29,39', '03,16,19,20,31', '06,11,12,15,35']\n"
     ]
    }
   ],
   "source": [
    "print(historyLoteryComb)"
   ]
  },
  {
   "cell_type": "code",
   "execution_count": 17,
   "id": "4aded599",
   "metadata": {},
   "outputs": [],
   "source": [
    "def getLottery(date,result,url):\n",
    "    r = requests.get(url)\n",
    "    temp = []\n",
    "    if (r.status_code):\n",
    "        soup = BeautifulSoup(r.text, 'html.parser')\n",
    "        filterDate = soup.find_all('td', attrs={'style':'font-size: 4vmin; font-weight: bold; color: #000000;border-bottom-style: dotted; border-bottom-color: #CCCCCC;text-align:center;padding:0px;vertical-align:middle'})\n",
    "        filterNumb = soup.find_all('td', attrs={'style':'font-size: 6vmin; font-weight: bold; color: #000000;border-bottom-style: dotted; border-bottom-color: #CCCCCC;text-align:center;padding:0px;vertical-align:middle'})\n",
    "        for i,j in zip(filterDate,filterNumb):\n",
    "            x = i.text.strip()\n",
    "            y = j.text.strip()\n",
    "            date.append(x)\n",
    "            temp.append(y)\n",
    "        for i in temp:\n",
    "            x = \"\".join(i.split())\n",
    "#             print(x)\n",
    "            result.append(x)"
   ]
  },
  {
   "cell_type": "code",
   "execution_count": 18,
   "id": "f6ea4d53",
   "metadata": {},
   "outputs": [
    {
     "name": "stdout",
     "output_type": "stream",
     "text": [
      "12,16,17,19,34\n",
      "05,11,19,21,25\n",
      "07,22,23,33,37\n",
      "02,03,12,18,31\n",
      "09,11,21,22,38\n",
      "09,12,19,23,34\n",
      "06,20,23,25,28\n",
      "09,12,16,19,25\n",
      "09,17,20,21,37\n",
      "08,18,20,32,34\n",
      "04,06,17,31,36\n",
      "09,12,24,34,37\n",
      "24,28,29,32,37\n",
      "06,24,27,28,33\n",
      "01,15,20,23,28\n",
      "02,22,28,29,34\n",
      "13,15,16,23,34\n",
      "07,16,20,25,27\n",
      "05,10,31,37,39\n",
      "07,11,23,32,35\n",
      "02,13,14,29,39\n",
      "03,16,19,20,31\n",
      "06,11,12,15,35\n"
     ]
    }
   ],
   "source": [
    "allDateInfo = []\n",
    "allResultInfo = []\n",
    "url = f'https://www.pilio.idv.tw/lto539/list.asp?indexpage=190&orderby=new'\n",
    "getLottery(allDateInfo, allResultInfo, url)"
   ]
  },
  {
   "cell_type": "code",
   "execution_count": 20,
   "id": "10cf51c4",
   "metadata": {},
   "outputs": [
    {
     "data": {
      "text/plain": [
       "(None,\n",
       " ['12,16,17,19,34',\n",
       "  '05,11,19,21,25',\n",
       "  '07,22,23,33,37',\n",
       "  '02,03,12,18,31',\n",
       "  '09,11,21,22,38',\n",
       "  '09,12,19,23,34',\n",
       "  '06,20,23,25,28',\n",
       "  '09,12,16,19,25',\n",
       "  '09,17,20,21,37',\n",
       "  '08,18,20,32,34',\n",
       "  '04,06,17,31,36',\n",
       "  '09,12,24,34,37',\n",
       "  '24,28,29,32,37',\n",
       "  '06,24,27,28,33',\n",
       "  '01,15,20,23,28',\n",
       "  '02,22,28,29,34',\n",
       "  '13,15,16,23,34',\n",
       "  '07,16,20,25,27',\n",
       "  '05,10,31,37,39',\n",
       "  '07,11,23,32,35',\n",
       "  '02,13,14,29,39',\n",
       "  '03,16,19,20,31',\n",
       "  '06,11,12,15,35'])"
      ]
     },
     "execution_count": 20,
     "metadata": {},
     "output_type": "execute_result"
    }
   ],
   "source": [
    "allDateInfo,allResultInfo"
   ]
  },
  {
   "cell_type": "code",
   "execution_count": 8,
   "id": "c113311d",
   "metadata": {},
   "outputs": [
    {
     "name": "stdout",
     "output_type": "stream",
     "text": [
      "https://www.pilio.idv.tw/lto539/list.asp?indexpage=191&orderby=new\n",
      "<class 'list'>\n",
      "2007/02/01(å)\n",
      "https://www.pilio.idv.tw/lto539/list.asp?indexpage=190&orderby=new\n",
      "<class 'list'>\n",
      "2007/02/01(å)\n",
      "https://www.pilio.idv.tw/lto539/list.asp?indexpage=189&orderby=new\n",
      "<class 'list'>\n",
      "2007/02/01(å)\n"
     ]
    }
   ],
   "source": [
    "from bs4 import BeautifulSoup\n",
    "import requests\n",
    "\n",
    "allDateInfo = []\n",
    "allResultInfo = []\n",
    "\n",
    "def getLottery(date,result,url):\n",
    "    r = requests.get(url) \n",
    "    isConnected = int(r.status_code) # 檢查status code是否為200\n",
    "    temp = []\n",
    "    if (isConnected==200):\n",
    "        soup = BeautifulSoup(r.text, 'html.parser') # 抓取html\n",
    "        filterDate = soup.find_all('td', attrs={'style':'font-size: 4vmin; font-weight: bold; color: #000000;border-bottom-style: dotted; border-bottom-color: #CCCCCC;text-align:center;padding:0px;vertical-align:middle'})\n",
    "        filterNumb = soup.find_all('td', attrs={'style':'font-size: 6vmin; font-weight: bold; color: #000000;border-bottom-style: dotted; border-bottom-color: #CCCCCC;text-align:center;padding:0px;vertical-align:middle'})\n",
    "        for i,j in zip(filterDate,filterNumb):\n",
    "            x = i.text.strip()\n",
    "            y = j.text.strip() # strip() 可以去除頭尾的空白鍵\n",
    "            date.append(x)\n",
    "            temp.append(y)\n",
    "        for i in temp:\n",
    "            x = \"\".join(i.split())\n",
    "#             print(x)\n",
    "#             print('\\n')\n",
    "            result.append(x)\n",
    "\n",
    "def getPagesInfo(date,result,num):\n",
    "    for i in range (num):\n",
    "        url = f'https://www.pilio.idv.tw/lto539/list.asp?indexpage={191-i}&orderby=new'\n",
    "        print(url)\n",
    "        getLottery(date, result, url)\n",
    "        print(type(date))\n",
    "        print(date[0])\n",
    "    \n",
    "    return date, result\n",
    "allDateInfo,allResultInfo = getPagesInfo(allDateInfo,allResultInfo,3)\n",
    "# print(allDateInfo, allResultInfo)"
   ]
  },
  {
   "cell_type": "code",
   "execution_count": 1,
   "id": "b2c5d07d",
   "metadata": {},
   "outputs": [
    {
     "name": "stdout",
     "output_type": "stream",
     "text": [
      "This is 10 10\n"
     ]
    }
   ],
   "source": [
    "x = 10\n",
    "print(f'This is 10 {x}')"
   ]
  },
  {
   "cell_type": "code",
   "execution_count": 35,
   "id": "d5771107",
   "metadata": {},
   "outputs": [
    {
     "data": {
      "text/plain": [
       "(['2007/05/10',\n",
       "  '2007/05/11',\n",
       "  '2007/05/14',\n",
       "  '2007/05/15',\n",
       "  '2007/05/16',\n",
       "  '2007/05/17',\n",
       "  '2007/05/18',\n",
       "  '2007/05/21',\n",
       "  '2007/05/22',\n",
       "  '2007/05/23',\n",
       "  '2007/05/24',\n",
       "  '2007/05/25',\n",
       "  '2007/05/28',\n",
       "  '2007/05/29',\n",
       "  '2007/05/30',\n",
       "  '2007/05/31',\n",
       "  '2007/06/01',\n",
       "  '2007/06/04',\n",
       "  '2007/06/05',\n",
       "  '2007/06/06',\n",
       "  '2007/06/07',\n",
       "  '2007/06/08',\n",
       "  '2007/06/11'],\n",
       " ['07,14,27,29,30',\n",
       "  '01,07,10,16,37',\n",
       "  '01,07,18,19,21',\n",
       "  '07,20,21,28,33',\n",
       "  '06,08,18,25,35',\n",
       "  '04,07,13,32,36',\n",
       "  '01,03,07,13,28',\n",
       "  '21,28,33,35,38',\n",
       "  '05,20,33,38,39',\n",
       "  '10,14,15,29,35',\n",
       "  '04,05,10,17,37',\n",
       "  '04,13,19,23,35',\n",
       "  '07,08,13,30,35',\n",
       "  '04,08,21,29,32',\n",
       "  '01,13,18,31,32',\n",
       "  '08,15,20,23,25',\n",
       "  '06,11,15,37,39',\n",
       "  '04,05,06,13,33',\n",
       "  '01,11,18,21,24',\n",
       "  '05,08,11,23,38',\n",
       "  '02,09,10,14,39',\n",
       "  '15,18,19,21,24',\n",
       "  '14,19,22,25,35',\n",
       "  '14,19,22,25,35'])"
      ]
     },
     "execution_count": 35,
     "metadata": {},
     "output_type": "execute_result"
    }
   ],
   "source": [
    "from bs4 import BeautifulSoup\n",
    "import requests\n",
    "import pandas\n",
    "\n",
    "def hadleDate(soup):\n",
    "    cleanDate = []\n",
    "    filterDate = soup.find_all('td',attrs={'style':'font-size: 4vmin; font-weight: bold; color: #000000;border-bottom-style: dotted; border-bottom-color: #CCCCCC;text-align:center;padding:0px;vertical-align:middle'})\n",
    "    for i in filterDate:\n",
    "        x = i.text\n",
    "        x = x[:10]\n",
    "        cleanDate.append(x)\n",
    "    cleanDate.reverse()\n",
    "    return cleanDate\n",
    "\n",
    "def hadleLottoNumber(soup):\n",
    "    cleanLottoNumber = []\n",
    "    filterNumber = soup.find_all('td',attrs={'style':'font-size: 6vmin; font-weight: bold; color: #000000;border-bottom-style: dotted; border-bottom-color: #CCCCCC;text-align:center;padding:0px;vertical-align:middle'})\n",
    "    for i in filterNumber:\n",
    "        x = \"\".join((i.text.strip()).split()) \n",
    "        cleanLottoNumber.append(x)\n",
    "    cleanLottoNumber.append(x)\n",
    "    return cleanLottoNumber\n",
    "\n",
    "def getPageData(webURL):\n",
    "    date = []\n",
    "    lottoNumber = []\n",
    "    r = requests.get(url=webURL)\n",
    "    checkStatusCode = int(r.status_code)\n",
    "\n",
    "    if checkStatusCode==200:\n",
    "        soup = BeautifulSoup(r.text, 'html.parser')\n",
    "        date += hadleDate(soup)\n",
    "        lottoNumber += hadleLottoNumber(soup)\n",
    "\n",
    "    return date,lottoNumber\n",
    "\n",
    "def getMorePages(num):\n",
    "    allPageDate = []\n",
    "    allPageLottoNumber = []\n",
    "\n",
    "    for i in range (num):\n",
    "        pageURL = f'https://www.pilio.idv.tw/lto539/list.asp?indexpage={191-i}&orderby=new'\n",
    "        allPageDate += getPageData(webURL=pageURL)[0]\n",
    "        allPageLottoNumber += getPageData(web)\n",
    "\n",
    "    return allPageDate, allPageLottoNumber\n",
    "\n",
    "getMorePages(5)"
   ]
  },
  {
   "cell_type": "code",
   "execution_count": null,
   "id": "46177fd5",
   "metadata": {},
   "outputs": [],
   "source": []
  }
 ],
 "metadata": {
  "kernelspec": {
   "display_name": "Python 3 (ipykernel)",
   "language": "python",
   "name": "python3"
  },
  "language_info": {
   "codemirror_mode": {
    "name": "ipython",
    "version": 3
   },
   "file_extension": ".py",
   "mimetype": "text/x-python",
   "name": "python",
   "nbconvert_exporter": "python",
   "pygments_lexer": "ipython3",
   "version": "3.8.11"
  }
 },
 "nbformat": 4,
 "nbformat_minor": 5
}
